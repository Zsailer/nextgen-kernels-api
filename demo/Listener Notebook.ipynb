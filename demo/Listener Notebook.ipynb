{
 "cells": [
  {
   "cell_type": "code",
   "execution_count": null,
   "id": "37182422-efce-4e04-aa2e-8b480af8194f",
   "metadata": {},
   "outputs": [],
   "source": [
    "!pip install ipywidgets"
   ]
  },
  {
   "cell_type": "code",
   "execution_count": 1,
   "id": "c569b6fc-8565-40aa-9a57-b9d237b5f46e",
   "metadata": {
    "execution": {
     "iopub.execute_input": "2024-06-12T18:14:25.208612Z",
     "iopub.status.busy": "2024-06-12T18:14:25.207604Z",
     "iopub.status.idle": "2024-06-12T18:14:25.214909Z",
     "shell.execute_reply": "2024-06-12T18:14:25.213945Z",
     "shell.execute_reply.started": "2024-06-12T18:14:25.208537Z"
    }
   },
   "outputs": [],
   "source": [
    "import requests\n",
    "from IPython.display import JSON\n",
    "from IPython.display import display, display_json\n",
    "from ipywidgets import Output"
   ]
  },
  {
   "cell_type": "code",
   "execution_count": 2,
   "id": "c1aae81d-f554-4005-94da-6a1525ba1b9e",
   "metadata": {
    "execution": {
     "iopub.execute_input": "2024-06-12T18:11:58.582539Z",
     "iopub.status.busy": "2024-06-12T18:11:58.581876Z",
     "iopub.status.idle": "2024-06-12T18:11:58.586315Z",
     "shell.execute_reply": "2024-06-12T18:11:58.585698Z",
     "shell.execute_reply.started": "2024-06-12T18:11:58.582504Z"
    }
   },
   "outputs": [],
   "source": [
    "token = \"\""
   ]
  },
  {
   "cell_type": "code",
   "execution_count": 3,
   "id": "cc89fe89-6989-4ba9-91d8-2f55718896e2",
   "metadata": {
    "execution": {
     "iopub.execute_input": "2024-06-12T18:11:58.898891Z",
     "iopub.status.busy": "2024-06-12T18:11:58.897749Z",
     "iopub.status.idle": "2024-06-12T18:11:58.906042Z",
     "shell.execute_reply": "2024-06-12T18:11:58.904672Z",
     "shell.execute_reply.started": "2024-06-12T18:11:58.898821Z"
    }
   },
   "outputs": [],
   "source": [
    "def notebooks_kernel_id(nbname):\n",
    "    url = f\"http://localhost:8888/api/sessions?token={token}\"\n",
    "    resp = requests.get(url).json()\n",
    "    for session in resp:\n",
    "        if session[\"name\"] == nbname:\n",
    "            return session[\"kernel\"][\"id\"]"
   ]
  },
  {
   "cell_type": "code",
   "execution_count": 5,
   "id": "4230be31-831e-4d0d-9383-2c0cc5a3a1bb",
   "metadata": {
    "execution": {
     "iopub.execute_input": "2024-06-12T18:19:52.718527Z",
     "iopub.status.busy": "2024-06-12T18:19:52.717864Z",
     "iopub.status.idle": "2024-06-12T18:21:01.274828Z",
     "shell.execute_reply": "2024-06-12T18:21:01.273590Z",
     "shell.execute_reply.started": "2024-06-12T18:19:52.718498Z"
    }
   },
   "outputs": [
    {
     "name": "stdout",
     "output_type": "stream",
     "text": [
      "Lifecycle: connected\tExecution: idle\n"
     ]
    },
    {
     "ename": "KeyboardInterrupt",
     "evalue": "",
     "output_type": "error",
     "traceback": [
      "\u001b[0;31m---------------------------------------------------------------------------\u001b[0m",
      "\u001b[0;31mKeyboardInterrupt\u001b[0m                         Traceback (most recent call last)",
      "Cell \u001b[0;32mIn[20], line 19\u001b[0m\n\u001b[1;32m     17\u001b[0m \u001b[38;5;28;01mwhile\u001b[39;00m \u001b[38;5;28;01mTrue\u001b[39;00m:\n\u001b[1;32m     18\u001b[0m     get_kernel_state(nb_to_watch)\n\u001b[0;32m---> 19\u001b[0m     \u001b[43mtime\u001b[49m\u001b[38;5;241;43m.\u001b[39;49m\u001b[43msleep\u001b[49m\u001b[43m(\u001b[49m\u001b[38;5;241;43m1\u001b[39;49m\u001b[43m)\u001b[49m\n",
      "\u001b[0;31mKeyboardInterrupt\u001b[0m: "
     ]
    }
   ],
   "source": [
    "import time\n",
    "\n",
    "nb_to_watch = \"demo.ipynb\"\n",
    "\n",
    "out = Output()\n",
    "display(out)\n",
    "\n",
    "@out.capture(clear_output=True)\n",
    "def get_kernel_state(nb_to_watch):\n",
    "    try:\n",
    "        kernel_id = notebooks_kernel_id(nb_to_watch)\n",
    "        url = f\"http://localhost:8888/api/kernels/{kernel_id}/state?token={token}\"\n",
    "        resp = requests.get(url).json()\n",
    "        print(f\"Lifecycle: {resp['lifecycle_state']}\\tExecution: {resp['execution_state']}\")\n",
    "    except:\n",
    "        print(\"Skipping, since endpoint returned error\")\n",
    "        \n",
    "while True:\n",
    "    get_kernel_state(nb_to_watch)\n",
    "    time.sleep(1)"
   ]
  },
  {
   "cell_type": "code",
   "execution_count": null,
   "id": "2a70f778-1732-4c71-87c0-182ab0f9f2c8",
   "metadata": {},
   "outputs": [],
   "source": []
  }
 ],
 "metadata": {
  "kernelspec": {
   "display_name": "Python 3 (ipykernel)",
   "language": "python",
   "name": "python3"
  },
  "language_info": {
   "codemirror_mode": {
    "name": "ipython",
    "version": 3
   },
   "file_extension": ".py",
   "mimetype": "text/x-python",
   "name": "python",
   "nbconvert_exporter": "python",
   "pygments_lexer": "ipython3",
   "version": "3.12.4"
  },
  "widgets": {
   "application/vnd.jupyter.widget-state+json": {
    "state": {
     "7dc9c446ccbd4501809561a8599fdc26": {
      "model_module": "@jupyter-widgets/output",
      "model_module_version": "1.0.0",
      "model_name": "OutputModel",
      "state": {
       "layout": "IPY_MODEL_a76a97f3ad4845dfb60eec84282a7eb5",
       "outputs": [
        {
         "name": "stdout",
         "output_type": "stream",
         "text": "Lifecycle: connected\tExecution: idle\n"
        }
       ]
      }
     },
     "a76a97f3ad4845dfb60eec84282a7eb5": {
      "model_module": "@jupyter-widgets/base",
      "model_module_version": "2.0.0",
      "model_name": "LayoutModel",
      "state": {}
     },
     "ae1c96ff46224649bfe732e85db73f0d": {
      "model_module": "@jupyter-widgets/base",
      "model_module_version": "2.0.0",
      "model_name": "LayoutModel",
      "state": {}
     },
     "f46c64577cd546db96b9db504af1d743": {
      "model_module": "@jupyter-widgets/output",
      "model_module_version": "1.0.0",
      "model_name": "OutputModel",
      "state": {
       "layout": "IPY_MODEL_ae1c96ff46224649bfe732e85db73f0d",
       "outputs": [
        {
         "name": "stdout",
         "output_type": "stream",
         "text": "Lifecycle: connected\tExecution: idle\n"
        }
       ]
      }
     }
    },
    "version_major": 2,
    "version_minor": 0
   }
  }
 },
 "nbformat": 4,
 "nbformat_minor": 5
}
